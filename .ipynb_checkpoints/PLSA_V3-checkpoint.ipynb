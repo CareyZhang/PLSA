{
 "cells": [
  {
   "cell_type": "code",
   "execution_count": 1,
   "metadata": {},
   "outputs": [],
   "source": [
    "from datetime import *\n",
    "import math\n",
    "import json\n",
    "import numpy as np\n",
    "import pandas as pd"
   ]
  },
  {
   "cell_type": "code",
   "execution_count": 2,
   "metadata": {},
   "outputs": [],
   "source": [
    "def GetWords(QueryList):\n",
    "    ID2Word = {}\n",
    "    Word2ID = {}\n",
    "    CurrentID = 0\n",
    "    \n",
    "    for doc in open(\"Collection.txt\",\"r\").readlines():\n",
    "        for word in doc.split():\n",
    "            if word not in Word2ID.keys():\n",
    "                ID2Word.update({CurrentID : word})\n",
    "                Word2ID.update({word : CurrentID})\n",
    "                CurrentID += 1\n",
    "\n",
    "    for query in QueryList.values():\n",
    "        for line in open(\"Query/\"+query,\"r\").readlines():\n",
    "            for word in line.split()[:-1]:\n",
    "                if word not in Word2ID.keys():\n",
    "                    ID2Word.update({CurrentID : word})\n",
    "                    Word2ID.update({word : CurrentID})\n",
    "                    CurrentID += 1\n",
    "\n",
    "    return ID2Word, Word2ID\n",
    "    \n",
    "def Preprocessing(DocList, ID2Word):\n",
    "    N = len(DocList)\n",
    "    M = len(ID2Word)\n",
    "    A = np.zeros([N, M], int)\n",
    "\n",
    "    for index, doc in enumerate(open(\"Collection.txt\",\"r\").readlines()):\n",
    "        for word in doc.split():\n",
    "            A[index,Word2ID[word]] += 1\n",
    "    \n",
    "    return N, M, A\n",
    "\n",
    "def InitParam(M,N,K):\n",
    "    LAMBDA = np.random.random([N,K])\n",
    "    THETA = np.random.random([K,M])\n",
    "    for i in range(N):\n",
    "        LAMBDA[i,] /= np.sum(LAMBDA[i,])\n",
    "    for i in range(K):\n",
    "        THETA[i,] /= np.sum(THETA[i,])\n",
    "            \n",
    "    return LAMBDA, THETA\n",
    "\n",
    "def EStep(P,M,N,K):\n",
    "    for i in range(N):\n",
    "        for j in range(M):\n",
    "            for k in range(K):\n",
    "                P[i,j,k] = THETA[k,j] * LAMBDA[i,k]\n",
    "            s = np.sum(P[i,j,:])\n",
    "            if s == 0:\n",
    "                for k in range(K):\n",
    "                    P[i,j,k] = 0\n",
    "            else:\n",
    "                for k in range(K):\n",
    "                    P[i,j,k] /= s\n",
    "                    \n",
    "    return P\n",
    "\n",
    "def MStep(A,P,LAMBDA,Theta,M,N,K):\n",
    "    t = datetime.now()\n",
    "    for k in range(K):\n",
    "        for j in range(M):\n",
    "            THETA[k,j] = np.sum(A[:,j] * P[:,j,k])\n",
    "        s = np.sum(THETA[k,:])\n",
    "        if s == 0:\n",
    "            for j in range(M):\n",
    "                THETA[k,j] = 1.0 / M\n",
    "        else:\n",
    "            for j in range(M):\n",
    "                THETA[k,j] /= s\n",
    "    print(datetime.now()-t)\n",
    "    \n",
    "    for i in range(N):\n",
    "        for k in range(K):\n",
    "            LAMBDA[i,k] = np.sum(A[i,:] * P[i,:,k])\n",
    "            s = np.sum(A[i,:])\n",
    "            if s == 0:\n",
    "                LAMBDA[i,k] = 1.0 / K\n",
    "            else:\n",
    "                LAMBDA[i,k] /= s\n",
    "                \n",
    "    return LAMBDA, THETA\n",
    "\n",
    "def CurrentLogLikelihood(A,LAMBDA,THETA,M,N,K):\n",
    "    LogLikelihood = 0\n",
    "    for i in range(N):\n",
    "        for j in range(M):\n",
    "            tmp = 0\n",
    "            for k in range(K):\n",
    "                tmp += THETA[k,j] * LAMBDA[i,k]\n",
    "            if tmp > 0:\n",
    "                LogLikelihood += A[i,j] * math.log(tmp)\n",
    "\n",
    "    return LogLikelihood"
   ]
  },
  {
   "cell_type": "code",
   "execution_count": 6,
   "metadata": {},
   "outputs": [
    {
     "name": "stdout",
     "output_type": "stream",
     "text": [
      "81615933312\n"
     ]
    }
   ],
   "source": [
    "QueryList = {index : queries.strip('\\n') for index, queries in enumerate(open(\"query_list.txt\",\"r\"))}\n",
    "\n",
    "DocList = [index for index, words in enumerate(open(\"Collection.txt\",\"r\").readlines())]\n",
    "\n",
    "BGLM = {index:float(lines.split()[1]) for index,lines in enumerate(open(\"BGLM.txt\",\"r\"))}\n",
    "\n",
    "ID2Word, Word2ID = GetWords(QueryList)\n",
    "\n",
    "N, M, A = Preprocessing(DocList, ID2Word)\n",
    "\n",
    "K = 128\n",
    "MaxIter = 50\n",
    "Stop_Threshold = 10.0\n",
    "\n",
    "# LAMBDA[i,k] = p(Tk|Di)\n",
    "# THETA[i,j] = p(Wj|Ti)\n",
    "LAMBDA,THETA = InitParam(M,N,K)\n",
    "# P[i,j,k] = p(Tk|Di,Wj)\n",
    "P = np.zeros([N,M,K])"
   ]
  },
  {
   "cell_type": "code",
   "execution_count": 5,
   "metadata": {},
   "outputs": [
    {
     "ename": "MemoryError",
     "evalue": "",
     "output_type": "error",
     "traceback": [
      "\u001b[1;31m---------------------------------------------------------------------------\u001b[0m",
      "\u001b[1;31mMemoryError\u001b[0m                               Traceback (most recent call last)",
      "\u001b[1;32m<ipython-input-5-657700903636>\u001b[0m in \u001b[0;36m<module>\u001b[1;34m\u001b[0m\n\u001b[0;32m      1\u001b[0m \u001b[1;31m# P[i,j,k] = p(Tk|Di,Wj)\u001b[0m\u001b[1;33m\u001b[0m\u001b[1;33m\u001b[0m\u001b[1;33m\u001b[0m\u001b[0m\n\u001b[1;32m----> 2\u001b[1;33m \u001b[0mP\u001b[0m \u001b[1;33m=\u001b[0m \u001b[0mnp\u001b[0m\u001b[1;33m.\u001b[0m\u001b[0mzeros\u001b[0m\u001b[1;33m(\u001b[0m\u001b[1;33m[\u001b[0m\u001b[0mN\u001b[0m\u001b[1;33m,\u001b[0m\u001b[0mM\u001b[0m\u001b[1;33m,\u001b[0m\u001b[0mK\u001b[0m\u001b[1;33m]\u001b[0m\u001b[1;33m)\u001b[0m\u001b[1;33m\u001b[0m\u001b[1;33m\u001b[0m\u001b[0m\n\u001b[0m\u001b[0;32m      3\u001b[0m \u001b[1;33m\u001b[0m\u001b[0m\n\u001b[0;32m      4\u001b[0m \u001b[0mOldLogLikelihood\u001b[0m \u001b[1;33m=\u001b[0m \u001b[1;36m1\u001b[0m\u001b[1;33m\u001b[0m\u001b[1;33m\u001b[0m\u001b[0m\n\u001b[0;32m      5\u001b[0m \u001b[0mNewLogLikelihood\u001b[0m \u001b[1;33m=\u001b[0m \u001b[1;36m1\u001b[0m\u001b[1;33m\u001b[0m\u001b[1;33m\u001b[0m\u001b[0m\n",
      "\u001b[1;31mMemoryError\u001b[0m: "
     ]
    }
   ],
   "source": [
    "OldLogLikelihood = 1\n",
    "NewLogLikelihood = 1\n",
    "for i in range(MaxIter):\n",
    "    t = datetime.now()\n",
    "    P = EStep(P,M,N,K)\n",
    "    LAMBDA, THETA = MStep(A,P,LAMBDA,THETA,M,N,K)\n",
    "    print(LAMBDA)\n",
    "    print(THETA)\n",
    "    NewLogLikelihood = CurrentLogLikelihood(A,LAMBDA,THETA,M,N,K)\n",
    "    if (OldLogLikelihood != 1) and (NewLogLikelihood - OldLogLikelihood) < Stop_Threshold:\n",
    "        break\n",
    "    print(str(i) + \" \" + str(NewLogLikelihood) + \" \" + str(NewLogLikelihood - OldLogLikelihood) + \" \" + str(datetime.now() - t))\n",
    "    OldLogLikelihood = NewLogLikelihood"
   ]
  },
  {
   "cell_type": "code",
   "execution_count": 7,
   "metadata": {},
   "outputs": [
    {
     "data": {
      "text/plain": [
       "1.0"
      ]
     },
     "execution_count": 7,
     "metadata": {},
     "output_type": "execute_result"
    }
   ],
   "source": [
    "np.sum(THETA[0])"
   ]
  },
  {
   "cell_type": "code",
   "execution_count": 5,
   "metadata": {},
   "outputs": [],
   "source": [
    "Param_Alpha = 0.4\n",
    "Param_Beta = 0.4\n",
    "A_Normalize = np.zeros([N,M],float)\n",
    "\n",
    "for i in range(N):\n",
    "    A_Normalize[i,] = np.divide(A[i,],np.sum(A[i,]))\n",
    "\n",
    "f = open(\"submission.txt\", \"w\")\n",
    "f.write(\"Query,RetrievedDocuments\\r\\n\")\n",
    "\n",
    "for index, query in QueryList.items():\n",
    "    f.write(query + \",\")\n",
    "    Score = {}\n",
    "    for i,doc in DocList.items():\n",
    "        s = 1\n",
    "        for line in open(\"Query/\"+query,\"r\").readlines():\n",
    "            for word in line.split()[:-1]:\n",
    "                a1 = Param_Alpha * A_Normalize[i,Word2ID[word]]\n",
    "                a2 = np.sum(LAMBDA[i,:] * THETA[:,Word2ID[word]]) * Param_Beta\n",
    "                a3 = (1 - Param_Alpha - Param_Beta) * math.exp(BGLM[Word2ID[word]])\n",
    "                s *= a1 + a2 + a3\n",
    "        Score.update({doc : s})\n",
    "    Score_Sort = sorted(Score.items(), key=lambda Score: Score[1],reverse=True)\n",
    "    \n",
    "    for item in Score_Sort:\n",
    "        f.write(item[0] + \" \")\n",
    "    f.write(\"\\r\\n\")\n",
    "f.close()\n",
    "    "
   ]
  },
  {
   "cell_type": "code",
   "execution_count": null,
   "metadata": {},
   "outputs": [],
   "source": []
  }
 ],
 "metadata": {
  "kernelspec": {
   "display_name": "Python 3",
   "language": "python",
   "name": "python3"
  },
  "language_info": {
   "codemirror_mode": {
    "name": "ipython",
    "version": 3
   },
   "file_extension": ".py",
   "mimetype": "text/x-python",
   "name": "python",
   "nbconvert_exporter": "python",
   "pygments_lexer": "ipython3",
   "version": "3.7.3"
  },
  "widgets": {
   "application/vnd.jupyter.widget-state+json": {
    "state": {},
    "version_major": 2,
    "version_minor": 0
   }
  }
 },
 "nbformat": 4,
 "nbformat_minor": 2
}
